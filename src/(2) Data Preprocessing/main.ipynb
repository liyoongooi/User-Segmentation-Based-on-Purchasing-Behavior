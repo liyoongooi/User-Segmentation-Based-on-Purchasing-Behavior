{
 "cells": [
  {
   "cell_type": "markdown",
   "metadata": {},
   "source": [
    "<h3> Importing Libraries"
   ]
  },
  {
   "cell_type": "code",
   "execution_count": 1,
   "metadata": {},
   "outputs": [
    {
     "name": "stdout",
     "output_type": "stream",
     "text": [
      "WARNING:tensorflow:From c:\\Users\\60175\\AppData\\Local\\Programs\\Python\\Python311\\Lib\\site-packages\\keras\\src\\losses.py:2976: The name tf.losses.sparse_softmax_cross_entropy is deprecated. Please use tf.compat.v1.losses.sparse_softmax_cross_entropy instead.\n",
      "\n"
     ]
    }
   ],
   "source": [
    "import numpy as np\n",
    "import pandas as pd\n",
    "import matplotlib.pyplot as plt\n",
    "import seaborn as sns\n",
    "\n",
    "import warnings\n",
    "warnings.filterwarnings('ignore')\n",
    "\n",
    "from ohe import ohe\n",
    "from autoencoding import autoencoding\n",
    "from minmaxscaling import minmaxscaling\n",
    "from standardscaling import standardscaling"
   ]
  },
  {
   "cell_type": "markdown",
   "metadata": {},
   "source": [
    "<h3> Loading data"
   ]
  },
  {
   "cell_type": "code",
   "execution_count": 2,
   "metadata": {},
   "outputs": [],
   "source": [
    "df = pd.read_csv('../../data/(C) analytical_data.csv', index_col=0)"
   ]
  },
  {
   "cell_type": "markdown",
   "metadata": {},
   "source": [
    "<h3> Scaling & Encoding & Saving Pre-processed Data"
   ]
  },
  {
   "cell_type": "code",
   "execution_count": 3,
   "metadata": {},
   "outputs": [
    {
     "name": "stdout",
     "output_type": "stream",
     "text": [
      "WARNING:tensorflow:From c:\\Users\\60175\\AppData\\Local\\Programs\\Python\\Python311\\Lib\\site-packages\\keras\\src\\backend.py:1398: The name tf.executing_eagerly_outside_functions is deprecated. Please use tf.compat.v1.executing_eagerly_outside_functions instead.\n",
      "\n",
      "WARNING:tensorflow:From c:\\Users\\60175\\AppData\\Local\\Programs\\Python\\Python311\\Lib\\site-packages\\keras\\src\\optimizers\\__init__.py:309: The name tf.train.Optimizer is deprecated. Please use tf.compat.v1.train.Optimizer instead.\n",
      "\n",
      "Epoch 1/10\n",
      "WARNING:tensorflow:From c:\\Users\\60175\\AppData\\Local\\Programs\\Python\\Python311\\Lib\\site-packages\\keras\\src\\utils\\tf_utils.py:492: The name tf.ragged.RaggedTensorValue is deprecated. Please use tf.compat.v1.ragged.RaggedTensorValue instead.\n",
      "\n",
      "142/142 [==============================] - 4s 20ms/step - loss: 158.1181\n",
      "Epoch 2/10\n",
      "142/142 [==============================] - 3s 20ms/step - loss: 0.1650\n",
      "Epoch 3/10\n",
      "142/142 [==============================] - 3s 21ms/step - loss: 0.5749\n",
      "Epoch 4/10\n",
      "142/142 [==============================] - 3s 21ms/step - loss: 0.1955\n",
      "Epoch 5/10\n",
      "142/142 [==============================] - 3s 20ms/step - loss: 0.2911\n",
      "Epoch 6/10\n",
      "142/142 [==============================] - 3s 20ms/step - loss: 0.2720\n",
      "Epoch 7/10\n",
      "142/142 [==============================] - 3s 20ms/step - loss: 0.4565\n",
      "Epoch 8/10\n",
      "142/142 [==============================] - 3s 20ms/step - loss: 5.0054\n",
      "Epoch 9/10\n",
      "142/142 [==============================] - 3s 20ms/step - loss: 0.2971\n",
      "Epoch 10/10\n",
      "142/142 [==============================] - 3s 20ms/step - loss: 2.0464\n",
      "284/284 [==============================] - 0s 1ms/step\n",
      "Epoch 1/10\n",
      "142/142 [==============================] - 4s 20ms/step - loss: 0.0378\n",
      "Epoch 2/10\n",
      "142/142 [==============================] - 3s 21ms/step - loss: 7.2806e-04\n",
      "Epoch 3/10\n",
      "142/142 [==============================] - 3s 20ms/step - loss: 2.6765e-04\n",
      "Epoch 4/10\n",
      "142/142 [==============================] - 3s 20ms/step - loss: 4.6540e-04\n",
      "Epoch 5/10\n",
      "142/142 [==============================] - 3s 20ms/step - loss: 3.3006e-04\n",
      "Epoch 6/10\n",
      "142/142 [==============================] - 3s 20ms/step - loss: 2.4498e-04\n",
      "Epoch 7/10\n",
      "142/142 [==============================] - 3s 20ms/step - loss: 3.2647e-04\n",
      "Epoch 8/10\n",
      "142/142 [==============================] - 3s 20ms/step - loss: 2.4779e-04\n",
      "Epoch 9/10\n",
      "142/142 [==============================] - 3s 21ms/step - loss: 4.8300e-04\n",
      "Epoch 10/10\n",
      "142/142 [==============================] - 3s 20ms/step - loss: 3.8209e-04\n",
      "284/284 [==============================] - 0s 1ms/step\n",
      "Epoch 1/10\n",
      "142/142 [==============================] - 4s 20ms/step - loss: 0.0708\n",
      "Epoch 2/10\n",
      "142/142 [==============================] - 3s 20ms/step - loss: 0.0017\n",
      "Epoch 3/10\n",
      "142/142 [==============================] - 3s 20ms/step - loss: 6.1901e-04\n",
      "Epoch 4/10\n",
      "142/142 [==============================] - 3s 20ms/step - loss: 7.5100e-04\n",
      "Epoch 5/10\n",
      "142/142 [==============================] - 3s 20ms/step - loss: 7.6677e-04\n",
      "Epoch 6/10\n",
      "142/142 [==============================] - 3s 20ms/step - loss: 6.9031e-04\n",
      "Epoch 7/10\n",
      "142/142 [==============================] - 3s 20ms/step - loss: 5.5391e-04\n",
      "Epoch 8/10\n",
      "142/142 [==============================] - 3s 21ms/step - loss: 6.3015e-04\n",
      "Epoch 9/10\n",
      "142/142 [==============================] - 3s 19ms/step - loss: 9.6544e-04\n",
      "Epoch 10/10\n",
      "142/142 [==============================] - 3s 19ms/step - loss: 0.0011\n",
      "284/284 [==============================] - 0s 1ms/step\n"
     ]
    }
   ],
   "source": [
    "df.pipe(ohe).to_csv('../../data/(D) analytical_ohe.csv', index=True)\n",
    "df.pipe(ohe).pipe(autoencoding).to_csv('../../data/(E) analytical_ohe_autoencoding.csv', index=True)\n",
    "df.pipe(minmaxscaling).pipe(ohe).to_csv('../../data/(F) analytical_minmaxscaling_ohe.csv', index=True)\n",
    "df.pipe(minmaxscaling).pipe(ohe).pipe(autoencoding).to_csv('../../data/(G) analytical_minmaxscaling_ohe_autoencoding.csv', index=True)\n",
    "df.pipe(standardscaling).pipe(ohe).to_csv('../../data/(H) analytical_standardscaling_ohe.csv', index=True)\n",
    "df.pipe(standardscaling).pipe(ohe).pipe(autoencoding).to_csv('../../data/(I) analytical_standardscaling_ohe_autoencoding.csv', index=True)"
   ]
  }
 ],
 "metadata": {
  "kernelspec": {
   "display_name": "Python 3",
   "language": "python",
   "name": "python3"
  },
  "language_info": {
   "codemirror_mode": {
    "name": "ipython",
    "version": 3
   },
   "file_extension": ".py",
   "mimetype": "text/x-python",
   "name": "python",
   "nbconvert_exporter": "python",
   "pygments_lexer": "ipython3",
   "version": "3.11.1"
  }
 },
 "nbformat": 4,
 "nbformat_minor": 2
}
